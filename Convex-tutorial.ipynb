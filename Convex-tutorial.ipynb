{
 "cells": [
  {
   "cell_type": "markdown",
   "metadata": {
    "slideshow": {
     "slide_type": "slide"
    }
   },
   "source": [
    "# Convex optimization"
   ]
  },
  {
   "cell_type": "markdown",
   "metadata": {
    "slideshow": {
     "slide_type": "subslide"
    }
   },
   "source": [
    "### Definition: \n",
    "$f$ is **convex** if for all $\\theta \\in [0,1]$\n",
    "$$\n",
    "f(\\theta x + (1-\\theta)y ) \\leq \\theta f(x) + (1-\\theta) f(y)\n",
    "$$\n",
    "\n",
    "equivalently, \n",
    "\n",
    "* $f$ has nonnegative (upward) curvature\n",
    "* the graph of $f$ never lies above its chords\n",
    "* $f'' \\geq 0$ (if $f$ is differentiable)\n",
    "* epigraph $\\{(x,t): f(x) \\leq t\\}$ is a convex set\n",
    "    * implies sublevel sets $\\{x: f(x) \\leq \\alpha\\}$ are convex sets"
   ]
  },
  {
   "cell_type": "markdown",
   "metadata": {},
   "source": [
    "<img src=\"figures/chord.png\">"
   ]
  },
  {
   "cell_type": "markdown",
   "metadata": {
    "slideshow": {
     "slide_type": "subslide"
    }
   },
   "source": [
    "### Definition\n",
    "* $f$ is **concave** iff $-f$ is convex\n",
    "* $f$ is **affine** iff $f$ is both convex and concave"
   ]
  },
  {
   "cell_type": "markdown",
   "metadata": {
    "slideshow": {
     "slide_type": "subslide"
    }
   },
   "source": [
    "## Convex optimization (traditional form)\n",
    "\n",
    "$$\n",
    "\\begin{array}{ll} \n",
    "\\mbox{minimize}  & f_0(x) \\\\\n",
    "\\mbox{subject to} & f_i(x) \\leq 0, \\quad i=1, \\ldots, m_1\\\\\n",
    "& h_i(x) = 0, \\quad i=1, \\ldots, m_2\\\\\n",
    "\\end{array}\n",
    "$$\n",
    "\n",
    "* variable $x\\in \\mathbf{R}^n$\n",
    "* $f_i$ are all convex\n",
    "* $h_i$ are all affine"
   ]
  },
  {
   "cell_type": "markdown",
   "metadata": {
    "slideshow": {
     "slide_type": "subslide"
    }
   },
   "source": [
    "## Convex optimization (conic form)\n",
    "\n",
    "$$\n",
    "\\begin{array}{ll} \n",
    "\\mbox{minimize}  & c^T x \\\\\n",
    "    \\mbox{subject to} & Ax = b\\\\\n",
    "    & x \\in \\mathcal K\\\\\n",
    "\\end{array}\n",
    "$$\n",
    "\n",
    "where $\\mathcal K$ is a **convex cone**\n",
    "\n",
    "$$ x \\in \\mathcal K \\iff rx \\in \\mathcal K, \\quad \\forall r>0$$\n",
    "\n",
    "examples:\n",
    "\n",
    "* positive orthant \n",
    "\n",
    "$$\\mathcal K_+ = \\{x: x\\geq 0\\}$$\n",
    "    \n",
    "* second order cone \n",
    "\n",
    "$$\\mathcal K_{\\mathrm{SOC}} = \\{(x,t): \\|x\\|_2 \\leq t\\}$$\n",
    "    \n",
    "* semidefinite cone \n",
    "\n",
    "$$\\mathcal K_{\\mathrm{SDP}} = \\{X: X = X^T,~ v^T X v \\geq 0,~ \\forall v \\in \\mathbf{R}^n\\}$$\n",
    "    "
   ]
  },
  {
   "cell_type": "markdown",
   "metadata": {
    "slideshow": {
     "slide_type": "slide"
    }
   },
   "source": [
    "# Quick convex prototyping"
   ]
  },
  {
   "cell_type": "code",
   "execution_count": 1,
   "metadata": {
    "collapsed": false,
    "slideshow": {
     "slide_type": "fragment"
    }
   },
   "outputs": [
    {
     "name": "stderr",
     "output_type": "stream",
     "text": [
      "\u001b[1m\u001b[34mINFO: Recompiling stale cache file /Users/madeleine/.julia/lib/v0.5/Convex.ji for module Convex.\n",
      "\u001b[0mWARNING: using Compat.>: in module Convex conflicts with an existing identifier.\n"
     ]
    }
   ],
   "source": [
    "using Convex"
   ]
  },
  {
   "cell_type": "markdown",
   "metadata": {
    "slideshow": {
     "slide_type": "subslide"
    }
   },
   "source": [
    "## Variables"
   ]
  },
  {
   "cell_type": "code",
   "execution_count": 2,
   "metadata": {
    "collapsed": false,
    "slideshow": {
     "slide_type": "-"
    }
   },
   "outputs": [
    {
     "data": {
      "text/plain": [
       "Variable of\n",
       "size: (1, 1)\n",
       "sign: Convex.NoSign()\n",
       "vexity: Convex.AffineVexity()"
      ]
     },
     "execution_count": 2,
     "metadata": {},
     "output_type": "execute_result"
    }
   ],
   "source": [
    "# Scalar variable\n",
    "x = Variable()"
   ]
  },
  {
   "cell_type": "code",
   "execution_count": 3,
   "metadata": {
    "collapsed": false,
    "slideshow": {
     "slide_type": "-"
    }
   },
   "outputs": [
    {
     "data": {
      "text/plain": [
       "Variable of\n",
       "size: (4, 1)\n",
       "sign: Convex.NoSign()\n",
       "vexity: Convex.AffineVexity()"
      ]
     },
     "execution_count": 3,
     "metadata": {},
     "output_type": "execute_result"
    }
   ],
   "source": [
    "# (Column) vector variable\n",
    "y = Variable(4)"
   ]
  },
  {
   "cell_type": "code",
   "execution_count": 4,
   "metadata": {
    "collapsed": false,
    "slideshow": {
     "slide_type": "-"
    }
   },
   "outputs": [
    {
     "data": {
      "text/plain": [
       "Variable of\n",
       "size: (4, 2)\n",
       "sign: Convex.NoSign()\n",
       "vexity: Convex.AffineVexity()"
      ]
     },
     "execution_count": 4,
     "metadata": {},
     "output_type": "execute_result"
    }
   ],
   "source": [
    "# Matrix variable\n",
    "z = Variable(4, 2)"
   ]
  },
  {
   "cell_type": "code",
   "execution_count": 5,
   "metadata": {
    "collapsed": false
   },
   "outputs": [
    {
     "data": {
      "text/plain": [
       "Variable of\n",
       "size: (5, 1)\n",
       "sign: Convex.ComplexSign()\n",
       "vexity: Convex.AffineVexity()"
      ]
     },
     "execution_count": 5,
     "metadata": {},
     "output_type": "execute_result"
    }
   ],
   "source": [
    "# Complex variable\n",
    "c = ComplexVariable(5)"
   ]
  },
  {
   "cell_type": "markdown",
   "metadata": {
    "slideshow": {
     "slide_type": "subslide"
    }
   },
   "source": [
    "# Expressions\n",
    "\n",
    "* functions operate on variables to form *convex expressions*"
   ]
  },
  {
   "cell_type": "code",
   "execution_count": 6,
   "metadata": {
    "collapsed": false,
    "slideshow": {
     "slide_type": "fragment"
    }
   },
   "outputs": [
    {
     "data": {
      "text/plain": [
       "AbstractExpr with\n",
       "head: +\n",
       "size: (1, 1)\n",
       "sign: Convex.NoSign()\n",
       "vexity: Convex.AffineVexity()\n"
      ]
     },
     "execution_count": 6,
     "metadata": {},
     "output_type": "execute_result"
    }
   ],
   "source": [
    "# indexing, multiplication, addition\n",
    "e1 = y[1] + 2*x"
   ]
  },
  {
   "cell_type": "code",
   "execution_count": 7,
   "metadata": {
    "collapsed": false,
    "slideshow": {
     "slide_type": "fragment"
    }
   },
   "outputs": [
    {
     "data": {
      "text/plain": [
       "AbstractExpr with\n",
       "head: geomean\n",
       "size: (1, 1)\n",
       "sign: Convex.Positive()\n",
       "vexity: Convex.ConcaveVexity()\n"
      ]
     },
     "execution_count": 7,
     "metadata": {},
     "output_type": "execute_result"
    }
   ],
   "source": [
    "# expressions can be affine, convex, or concave\n",
    "e3 = sqrt(x)"
   ]
  },
  {
   "cell_type": "code",
   "execution_count": 10,
   "metadata": {
    "collapsed": false,
    "slideshow": {
     "slide_type": "fragment"
    }
   },
   "outputs": [
    {
     "data": {
      "text/plain": [
       "AbstractExpr with\n",
       "head: +\n",
       "size: (1, 1)\n",
       "sign: Convex.Positive()\n",
       "vexity: Convex.ConvexVexity()\n"
      ]
     },
     "execution_count": 10,
     "metadata": {},
     "output_type": "execute_result"
    }
   ],
   "source": [
    "# many built-in functions for Convex variables\n",
    "e2 = 4 * pos(x) + maximum(abs(y)) + norm(z[:,1],2)"
   ]
  },
  {
   "cell_type": "code",
   "execution_count": 11,
   "metadata": {
    "collapsed": false,
    "slideshow": {
     "slide_type": "fragment"
    }
   },
   "outputs": [
    {
     "data": {
      "text/plain": [
       "AbstractExpr with\n",
       "head: +\n",
       "size: (1, 1)\n",
       "sign: Convex.Positive()\n",
       "vexity: Convex.NotDcp()\n"
      ]
     },
     "execution_count": 11,
     "metadata": {},
     "output_type": "execute_result"
    },
    {
     "name": "stderr",
     "output_type": "stream",
     "text": [
      "\u001b[1m\u001b[31mWARNING: Expression not DCP compliant. Trying to solve non-DCP compliant problems can lead to unexpected behavior.\u001b[0m\n"
     ]
    }
   ],
   "source": [
    "# not convex! more on this later...\n",
    "e3 = square(y[1]) + sqrt(x)"
   ]
  },
  {
   "cell_type": "markdown",
   "metadata": {
    "slideshow": {
     "slide_type": "subslide"
    }
   },
   "source": [
    "# Constraints"
   ]
  },
  {
   "cell_type": "code",
   "execution_count": 12,
   "metadata": {
    "collapsed": false,
    "slideshow": {
     "slide_type": "fragment"
    }
   },
   "outputs": [
    {
     "data": {
      "text/plain": [
       "Constraint:\n",
       "== constraint\n",
       "lhs: AbstractExpr with\n",
       "head: *\n",
       "size: (3, 1)\n",
       "sign: Convex.NoSign()\n",
       "vexity: Convex.AffineVexity()\n",
       "\n",
       "rhs: [-2.23407,0.0315179,1.00965]\n",
       "vexity: Convex.AffineVexity()"
      ]
     },
     "execution_count": 12,
     "metadata": {},
     "output_type": "execute_result"
    }
   ],
   "source": [
    "# affine equality constraint\n",
    "A = randn(3,4); b = randn(3)\n",
    "c1 = A*y == b"
   ]
  },
  {
   "cell_type": "code",
   "execution_count": 13,
   "metadata": {
    "collapsed": false,
    "slideshow": {
     "slide_type": "fragment"
    }
   },
   "outputs": [
    {
     "data": {
      "text/plain": [
       "Constraint:\n",
       "<= constraint\n",
       "lhs: AbstractExpr with\n",
       "head: norm2\n",
       "size: (1, 1)\n",
       "sign: Convex.Positive()\n",
       "vexity: Convex.ConvexVexity()\n",
       "\n",
       "rhs: 2\n",
       "vexity: Convex.ConvexVexity()"
      ]
     },
     "execution_count": 13,
     "metadata": {},
     "output_type": "execute_result"
    }
   ],
   "source": [
    "# convex inequality constraint\n",
    "c2 = norm(y,2) <= 2"
   ]
  },
  {
   "cell_type": "code",
   "execution_count": 14,
   "metadata": {
    "collapsed": false,
    "slideshow": {
     "slide_type": "fragment"
    }
   },
   "outputs": [
    {
     "data": {
      "text/plain": [
       "Constraint:\n",
       "<= constraint\n",
       "lhs: AbstractExpr with\n",
       "head: +\n",
       "size: (1, 1)\n",
       "sign: Convex.Positive()\n",
       "vexity: Convex.ConvexVexity()\n",
       "\n",
       "rhs: AbstractExpr with\n",
       "head: min\n",
       "size: (1, 1)\n",
       "sign: Convex.NoSign()\n",
       "vexity: Convex.ConcaveVexity()\n",
       "\n",
       "vexity: Convex.ConvexVexity()"
      ]
     },
     "execution_count": 14,
     "metadata": {},
     "output_type": "execute_result"
    }
   ],
   "source": [
    "# constraints are parsed to verify convexity\n",
    "c3 = norm(z[:,1]) + 7 <= min(y[3],x)"
   ]
  },
  {
   "cell_type": "code",
   "execution_count": 15,
   "metadata": {
    "collapsed": false,
    "slideshow": {
     "slide_type": "fragment"
    }
   },
   "outputs": [
    {
     "data": {
      "text/plain": [
       "Constraint:\n",
       "<= constraint\n",
       "lhs: AbstractExpr with\n",
       "head: +\n",
       "size: (1, 1)\n",
       "sign: Convex.Positive()\n",
       "vexity: Convex.ConvexVexity()\n",
       "\n",
       "rhs: AbstractExpr with\n",
       "head: max\n",
       "size: (1, 1)\n",
       "sign: Convex.NoSign()\n",
       "vexity: Convex.ConvexVexity()\n",
       "\n",
       "vexity: Convex.NotDcp()"
      ]
     },
     "execution_count": 15,
     "metadata": {},
     "output_type": "execute_result"
    },
    {
     "name": "stderr",
     "output_type": "stream",
     "text": [
      "\u001b[1m\u001b[31mWARNING: Expression not DCP compliant. Trying to solve non-DCP compliant problems can lead to unexpected behavior.\u001b[0m\n"
     ]
    }
   ],
   "source": [
    "# not convex!\n",
    "c3 = norm(z[:,1]) + 7 <= max(y[3],x)"
   ]
  },
  {
   "cell_type": "markdown",
   "metadata": {
    "slideshow": {
     "slide_type": "subslide"
    }
   },
   "source": [
    "# Problems"
   ]
  },
  {
   "cell_type": "code",
   "execution_count": 17,
   "metadata": {
    "collapsed": false,
    "slideshow": {
     "slide_type": "fragment"
    }
   },
   "outputs": [
    {
     "data": {
      "text/plain": [
       "Problem:\n",
       "minimize AbstractExpr with\n",
       "head: +\n",
       "size: (1, 1)\n",
       "sign: Convex.NoSign()\n",
       "vexity: Convex.ConvexVexity()\n",
       "\n",
       "subject to\n",
       "Constraint:\n",
       ">= constraint\n",
       "lhs: Variable of\n",
       "size: (1, 1)\n",
       "sign: Convex.NoSign()\n",
       "vexity: Convex.AffineVexity()\n",
       "rhs: AbstractExpr with\n",
       "head: maximum\n",
       "size: (1, 1)\n",
       "sign: Convex.NoSign()\n",
       "vexity: Convex.ConvexVexity()\n",
       "\n",
       "vexity: Convex.ConvexVexity()\n",
       "current status: not yet solved"
      ]
     },
     "execution_count": 17,
     "metadata": {},
     "output_type": "execute_result"
    }
   ],
   "source": [
    "objective = 2*x + 1 - sqrt(sum(y))\n",
    "constraint = x >= maximum(y)\n",
    "p = minimize(objective, constraint)"
   ]
  },
  {
   "cell_type": "code",
   "execution_count": 18,
   "metadata": {
    "collapsed": false,
    "slideshow": {
     "slide_type": "fragment"
    }
   },
   "outputs": [
    {
     "name": "stdout",
     "output_type": "stream",
     "text": [
      "----------------------------------------------------------------------------\n",
      "\tSCS v1.2.6 - Splitting Conic Solver\n",
      "\t(c) Brendan O'Donoghue, Stanford University, 2012-2016\n",
      "----------------------------------------------------------------------------\n",
      "Lin-sys: sparse-direct, nnz in A = 26\n",
      "eps = 1.00e-04, alpha = 1.80, max_iters = 20000, normalize = 1, scale = 5.00\n",
      "Variables n = 8, constraints m = 11\n",
      "Cones:\tprimal zero / dual free vars: 1\n",
      "\tlinear vars: 7\n",
      "\tsoc vars: 3, soc blks: 1\n",
      "Setup time: 7.86e-04s\n",
      "----------------------------------------------------------------------------\n",
      " Iter | pri res | dua res | rel gap | pri obj | dua obj | kap/tau | time (s)\n",
      "----------------------------------------------------------------------------\n",
      "     0|      inf       inf       nan      -inf       inf       inf  4.73e-04 \n",
      "   100| 1.51e-05  2.56e-04  1.47e-04  5.00e-01  5.00e-01  8.07e-17  5.44e-04 \n",
      "   120| 3.77e-06  6.38e-05  3.67e-05  5.00e-01  5.00e-01  0.00e+00  5.60e-04 \n",
      "----------------------------------------------------------------------------\n",
      "Status: Solved\n",
      "Timing: Solve time: 5.87e-04s\n",
      "\tLin-sys: nnz in L factor: 58, avg solve time: 1.55e-06s\n",
      "\tCones: avg projection time: 6.30e-08s\n",
      "----------------------------------------------------------------------------\n",
      "Error metrics:\n",
      "dist(s, K) = 1.1102e-16, dist(y, K*) = 0.0000e+00, s'y/|s||y| = 0.0000e+00\n",
      "|Ax + s - b|_2 / (1 + |b|_2) = 3.7746e-06\n",
      "|A'y + c|_2 / (1 + |c|_2) = 6.3785e-05\n",
      "|c'x + b'y| / (1 + |c'x| + |b'y|) = 3.6670e-05\n",
      "----------------------------------------------------------------------------\n",
      "c'x = 0.5000, -b'y = 0.5001\n",
      "============================================================================\n"
     ]
    },
    {
     "data": {
      "text/plain": [
       "Problem:\n",
       "minimize AbstractExpr with\n",
       "head: +\n",
       "size: (1, 1)\n",
       "sign: Convex.NoSign()\n",
       "vexity: Convex.ConvexVexity()\n",
       "\n",
       "subject to\n",
       "Constraint:\n",
       ">= constraint\n",
       "lhs: Variable of\n",
       "size: (1, 1)\n",
       "sign: Convex.NoSign()\n",
       "vexity: Convex.AffineVexity()\n",
       "value: 0.2499283491590887\n",
       "rhs: AbstractExpr with\n",
       "head: maximum\n",
       "size: (1, 1)\n",
       "sign: Convex.NoSign()\n",
       "vexity: Convex.ConvexVexity()\n",
       "\n",
       "vexity: Convex.ConvexVexity()\n",
       "current status: Optimal"
      ]
     },
     "execution_count": 18,
     "metadata": {},
     "output_type": "execute_result"
    }
   ],
   "source": [
    "# solve the problem\n",
    "solve!(p)\n",
    "p"
   ]
  },
  {
   "cell_type": "code",
   "execution_count": 19,
   "metadata": {
    "collapsed": false,
    "slideshow": {
     "slide_type": "fragment"
    }
   },
   "outputs": [
    {
     "data": {
      "text/plain": [
       "0.5000079118188752"
      ]
     },
     "execution_count": 19,
     "metadata": {},
     "output_type": "execute_result"
    }
   ],
   "source": [
    "p.optval"
   ]
  },
  {
   "cell_type": "code",
   "execution_count": 21,
   "metadata": {
    "collapsed": false,
    "slideshow": {
     "slide_type": "subslide"
    }
   },
   "outputs": [
    {
     "data": {
      "text/plain": [
       "1×1 Array{Float64,2}:\n",
       " 0.500004"
      ]
     },
     "execution_count": 21,
     "metadata": {},
     "output_type": "execute_result"
    }
   ],
   "source": [
    "# can evaluate expressions directly\n",
    "evaluate(objective)"
   ]
  },
  {
   "cell_type": "code",
   "execution_count": 22,
   "metadata": {
    "collapsed": false,
    "slideshow": {
     "slide_type": "fragment"
    }
   },
   "outputs": [
    {
     "data": {
      "text/plain": [
       "0.2499283491590887"
      ]
     },
     "execution_count": 22,
     "metadata": {},
     "output_type": "execute_result"
    }
   ],
   "source": [
    "x.value"
   ]
  },
  {
   "cell_type": "code",
   "execution_count": 26,
   "metadata": {
    "collapsed": false,
    "slideshow": {
     "slide_type": "fragment"
    }
   },
   "outputs": [
    {
     "data": {
      "text/plain": [
       "2.0000000010988517"
      ]
     },
     "execution_count": 26,
     "metadata": {},
     "output_type": "execute_result"
    }
   ],
   "source": [
    "# lagrange dual variable\n",
    "constraint.dual"
   ]
  },
  {
   "cell_type": "markdown",
   "metadata": {
    "slideshow": {
     "slide_type": "subslide"
    }
   },
   "source": [
    "## Problem variants\n",
    "\n",
    "* maximization problems \n",
    "    ```julia\n",
    "    maximize(concaveExpr, constraints)\n",
    "    ```\n",
    "* constraint satisfaction problems \n",
    "    ```julia\n",
    "    satisfy(constraints)\n",
    "    ```"
   ]
  },
  {
   "cell_type": "markdown",
   "metadata": {},
   "source": [
    "## Many more examples Convex in action [on GitHub](https://github.com/JuliaOpt/Convex.jl/tree/master/examples)"
   ]
  },
  {
   "cell_type": "markdown",
   "metadata": {
    "slideshow": {
     "slide_type": "slide"
    }
   },
   "source": [
    "# Disciplined convex programming (DCP)\n",
    "\n",
    "Infer convexity of expressions by induction:\n",
    "\n",
    "* variables have known vexity (affine) and sign\n",
    "* library of atoms with known vexity and sign (as function of their arguments)\n",
    "\n",
    "More information at [dcp.stanford.edu](dcp.stanford.edu)"
   ]
  },
  {
   "cell_type": "markdown",
   "metadata": {
    "slideshow": {
     "slide_type": "subslide"
    }
   },
   "source": [
    "## Convexity inference\n",
    "1. $f \\circ g(x)$ is convex in $x$ if\n",
    "    * $f$ is convex increasing and $g$ is convex \n",
    "    * $f$ is convex decreasing and $g$ is concave \n",
    "\n",
    "1. $f \\circ g(x)$ is concave in $x$ if\n",
    "    * $f$ is concave increasing and $g$ is concave \n",
    "    * $f$ is concave decreasing and $g$ is convex\n",
    "\n",
    "For smooth functions, derivation via chain rule:\n",
    "$$\n",
    "(f \\circ g)''(x) = f''(g(x))(g(x))^2 + f'(g(x))g''(x)\n",
    "$$\n",
    "\n",
    "example: \n",
    "* `+` is convex and increasing in its arguments\n",
    "* so `convexExpr + convexExpr` is convex"
   ]
  },
  {
   "cell_type": "markdown",
   "metadata": {
    "slideshow": {
     "slide_type": "subslide"
    }
   },
   "source": [
    "# Library of atoms\n",
    "\n",
    "See [the docs](convexjl.readthedocs.io/operations.html) for the full list of operations"
   ]
  },
  {
   "cell_type": "markdown",
   "metadata": {
    "slideshow": {
     "slide_type": "subslide"
    }
   },
   "source": [
    "## Convex expressions to convex optimization\n",
    "\n",
    "Convex simply checks that \n",
    "\n",
    "* objective is\n",
    "    * `minimize(convexExpr)`\n",
    "    * `maximize(concaveExpr)`\n",
    "* constraints are\n",
    "    * `convexExpr <= concaveExpr`\n",
    "    * `affineExpr == 0`\n",
    "* (remember affine expressions are both convex and concave)"
   ]
  },
  {
   "cell_type": "markdown",
   "metadata": {
    "slideshow": {
     "slide_type": "subslide"
    }
   },
   "source": [
    "## DCP examples"
   ]
  },
  {
   "cell_type": "code",
   "execution_count": 27,
   "metadata": {
    "collapsed": false,
    "slideshow": {
     "slide_type": "fragment"
    }
   },
   "outputs": [
    {
     "data": {
      "text/plain": [
       "AbstractExpr with\n",
       "head: qol_elem\n",
       "size: (1, 1)\n",
       "sign: Convex.Positive()\n",
       "vexity: Convex.ConvexVexity()\n"
      ]
     },
     "execution_count": 27,
     "metadata": {},
     "output_type": "execute_result"
    }
   ],
   "source": [
    "# $f$ is convex increasing and $g$ is convex\n",
    "square(pos(x))"
   ]
  },
  {
   "cell_type": "code",
   "execution_count": 29,
   "metadata": {
    "collapsed": false,
    "slideshow": {
     "slide_type": "fragment"
    }
   },
   "outputs": [
    {
     "data": {
      "text/plain": [
       "AbstractExpr with\n",
       "head: qol_elem\n",
       "size: (1, 1)\n",
       "sign: Convex.Positive()\n",
       "vexity: Convex.ConvexVexity()\n"
      ]
     },
     "execution_count": 29,
     "metadata": {},
     "output_type": "execute_result"
    }
   ],
   "source": [
    "# $f$ is convex decreasing and $g$ is concave \n",
    "invpos(sqrt(x))"
   ]
  },
  {
   "cell_type": "code",
   "execution_count": 30,
   "metadata": {
    "collapsed": false,
    "slideshow": {
     "slide_type": "fragment"
    }
   },
   "outputs": [
    {
     "data": {
      "text/plain": [
       "AbstractExpr with\n",
       "head: geomean\n",
       "size: (1, 1)\n",
       "sign: Convex.Positive()\n",
       "vexity: Convex.ConcaveVexity()\n"
      ]
     },
     "execution_count": 30,
     "metadata": {},
     "output_type": "execute_result"
    }
   ],
   "source": [
    "# $f$ is concave increasing and $g$ is concave \n",
    "sqrt(sqrt(x))"
   ]
  },
  {
   "cell_type": "code",
   "execution_count": 31,
   "metadata": {
    "collapsed": false,
    "slideshow": {
     "slide_type": "subslide"
    }
   },
   "outputs": [
    {
     "data": {
      "text/plain": [
       "AbstractExpr with\n",
       "head: geomean\n",
       "size: (1, 1)\n",
       "sign: Convex.Positive()\n",
       "vexity: Convex.NotDcp()\n"
      ]
     },
     "execution_count": 31,
     "metadata": {},
     "output_type": "execute_result"
    },
    {
     "name": "stderr",
     "output_type": "stream",
     "text": [
      "\u001b[1m\u001b[31mWARNING: Expression not DCP compliant. Trying to solve non-DCP compliant problems can lead to unexpected behavior.\u001b[0m\n"
     ]
    }
   ],
   "source": [
    "# not every convex expression is DCP compliant\n",
    "sqrt(square(x))\n",
    "# here, better use abs(x)"
   ]
  },
  {
   "cell_type": "code",
   "execution_count": 32,
   "metadata": {
    "collapsed": false,
    "slideshow": {
     "slide_type": "fragment"
    }
   },
   "outputs": [
    {
     "data": {
      "text/plain": [
       "AbstractExpr with\n",
       "head: +\n",
       "size: (1, 1)\n",
       "sign: Convex.Positive()\n",
       "vexity: Convex.NotDcp()\n"
      ]
     },
     "execution_count": 32,
     "metadata": {},
     "output_type": "execute_result"
    },
    {
     "name": "stderr",
     "output_type": "stream",
     "text": [
      "\u001b[1m\u001b[31mWARNING: Expression not DCP compliant. Trying to solve non-DCP compliant problems can lead to unexpected behavior.\u001b[0m\n"
     ]
    }
   ],
   "source": [
    "# convex + concave => not DCP compliant\n",
    "e3 = square(y[1]) + sqrt(x)"
   ]
  },
  {
   "cell_type": "markdown",
   "metadata": {
    "slideshow": {
     "slide_type": "subslide"
    }
   },
   "source": [
    "# How does it work?\n",
    "\n",
    "Convex solves problems by:\n",
    "* constructing abstract syntax tree\n",
    "* parsing to conic form\n",
    "* passing to solver\n",
    "\n",
    "## Construct abstract syntax tree\n",
    "\n",
    "(done automatically during parsing)\n",
    "\n",
    "* for objective\n",
    "* for each constraint"
   ]
  },
  {
   "cell_type": "markdown",
   "metadata": {
    "slideshow": {
     "slide_type": "fragment"
    }
   },
   "source": [
    "example:\n",
    "\n",
    "    p = minimize(norm(A*x-b,2), x>=0)\n",
    "    \n",
    "becomes\n",
    "    \n",
    "    p.objective   = (:norm_2, [(:-, [(:*, [A, x]), b])])\n",
    "    p.constraints = [(:<=, 0, x)]\n",
    "    \n",
    "**Remark:** AST does not depend on solver format (or on convexity of expressions)"
   ]
  },
  {
   "cell_type": "markdown",
   "metadata": {
    "slideshow": {
     "slide_type": "slide"
    }
   },
   "source": [
    "# Conic Form\n",
    "\n",
    "Convex automatically reformulates problems into conic form to pass to conic form solvers."
   ]
  },
  {
   "cell_type": "markdown",
   "metadata": {
    "slideshow": {
     "slide_type": "subslide"
    }
   },
   "source": [
    "## Parse to conic form: introduce new variables\n",
    "\n",
    "one variable per atom\n",
    "\n",
    "$$\n",
    "\\begin{array}{ll}\n",
    "\\mbox{minimize} & v_3 \\\\\n",
    "\\mbox{subject to} & v_1 = Ax \\\\\n",
    "& v_2 = v_1 - b \\\\\n",
    "& v_3 = \\|v_2\\|_2 \\\\\n",
    "& x\\geq 0\n",
    "\\end{array}\n",
    "$$"
   ]
  },
  {
   "cell_type": "markdown",
   "metadata": {
    "slideshow": {
     "slide_type": "subslide"
    }
   },
   "source": [
    "## Parse to conic form: relax convex constraints\n",
    "\n",
    "nonconvex equality constraints become convex inequality constraints\n",
    "\n",
    "$$\n",
    "\\begin{array}{ll}\n",
    "\\mbox{minimize} & v_3 \\\\\n",
    "\\mbox{subject to} & v_1 = Ax \\\\\n",
    "& v_2 = v_1 - b \\\\\n",
    "& v_3 \\geq \\|v_2\\|_2 \\\\\n",
    "& x\\geq 0\n",
    "\\end{array}\n",
    "$$\n",
    "\n",
    "**Convexity:** relaxation is tight at solution"
   ]
  },
  {
   "cell_type": "markdown",
   "metadata": {
    "slideshow": {
     "slide_type": "subslide"
    }
   },
   "source": [
    "## Parse to conic form:\n",
    "\n",
    "conic form is defined recursively:\n",
    "\n",
    "$$\n",
    "\\begin{array}{ll}\n",
    "\\mbox{minimize} & v_3 \\\\\n",
    "\\mbox{subject to} & v_1 - Ax = 0 \\\\\n",
    "& v_1 - v_2 = b \\\\\n",
    "& (v_2, v_3) \\in \\mathcal K_{\\mathrm{SOC}}^m \\\\\n",
    "& x \\in \\mathcal K_+^n\n",
    "\\end{array}\n",
    "$$"
   ]
  },
  {
   "cell_type": "code",
   "execution_count": 39,
   "metadata": {
    "collapsed": false,
    "slideshow": {
     "slide_type": "subslide"
    }
   },
   "outputs": [
    {
     "data": {
      "text/plain": [
       "DataStructures.OrderedDict{UInt64,Tuple{Union{AbstractArray,Number},Union{AbstractArray,Number}}} with 2 entries:\n",
       "  0xcf91c72d1de502cf => (…\n",
       "  0xda59128f4ac0b6bc => (…"
      ]
     },
     "execution_count": 39,
     "metadata": {},
     "output_type": "execute_result"
    }
   ],
   "source": [
    "## In code\n",
    "m,n = 4,2\n",
    "A = randn(m,n)\n",
    "b = randn(m)\n",
    "x = Variable(n)\n",
    "conic_form!((norm(A*x-b,2))) # gives coefficients of variables in objective and in constraint, in sparse form"
   ]
  },
  {
   "cell_type": "markdown",
   "metadata": {
    "slideshow": {
     "slide_type": "subslide"
    }
   },
   "source": [
    "## Pass to MathProgBase: construct matrices\n",
    "\n",
    "$$\n",
    "\\begin{array}{ll}\n",
    "\\mbox{minimize} & \n",
    "    \\begin{bmatrix}\n",
    "    0 & 0 & 1 & 0\n",
    "    \\end{bmatrix}\n",
    "    \\begin{bmatrix}\n",
    "    v_1 \\\\ v_2 \\\\ v_3 \\\\ x\n",
    "    \\end{bmatrix} \\\\\n",
    "\\mbox{subject to} & \n",
    "    \\begin{bmatrix}\n",
    "    I & 0 & 0 & -A \\\\\n",
    "    I & -I & 0 & 0\n",
    "    \\end{bmatrix}\n",
    "    \\begin{bmatrix}\n",
    "    v_1 \\\\ v_2 \\\\ v_3 \\\\ x\n",
    "    \\end{bmatrix}\n",
    "    =  \n",
    "    \\begin{bmatrix}\n",
    "    0 \\\\ b\n",
    "    \\end{bmatrix} \\\\\n",
    "& \n",
    "    \\begin{bmatrix}\n",
    "    v_1 \\\\ v_2 \\\\ v_3 \\\\ x\n",
    "    \\end{bmatrix}\n",
    "    \\in \\mathbf{R}^m \\times \\mathcal K_{\\mathrm{SOC}}^m \\times \\mathcal K_+^n\n",
    "\\end{array}\n",
    "$$\n",
    "\n",
    "* we have arrived at conic form!"
   ]
  },
  {
   "cell_type": "markdown",
   "metadata": {
    "slideshow": {
     "slide_type": "subslide"
    }
   },
   "source": [
    "## Pass to solver\n",
    "\n",
    "problem is now in standard conic form\n",
    "$$\n",
    "\\begin{array}{ll} \n",
    "\\mbox{minimize}  & c^T x \\\\\n",
    "    \\mbox{subject to} & Ax = b\\\\\n",
    "    & x \\in \\mathcal K\\\\\n",
    "\\end{array}\n",
    "$$\n",
    "\n",
    "### Call solver libraries\n",
    "\n",
    "* $\\mathcal K = $ positive orthant $\\implies$ linear program\n",
    "* $\\mathcal K = $ second order cone $\\implies$ SOCP\n",
    "* $\\mathcal K = $ semidefinite cone $\\implies$ SDP\n",
    "* $\\mathcal K = $ exponential cone $\\implies$ exponential cone program\n",
    "\n",
    "### Lots of solvers to choose from!\n",
    "\n",
    "Can use any solver from [MathProgBase](https://github.com/JuliaOpt/MathProgBase.jl) that supports the cones you need"
   ]
  }
 ],
 "metadata": {
  "celltoolbar": "Raw Cell Format",
  "kernelspec": {
   "display_name": "Julia 0.5.0",
   "language": "julia",
   "name": "julia-0.5"
  },
  "language_info": {
   "file_extension": ".jl",
   "mimetype": "application/julia",
   "name": "julia",
   "version": "0.5.0"
  }
 },
 "nbformat": 4,
 "nbformat_minor": 0
}
