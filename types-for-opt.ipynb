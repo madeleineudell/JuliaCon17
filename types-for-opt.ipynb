{
 "cells": [
  {
   "cell_type": "markdown",
   "metadata": {},
   "source": [
    "# Using the type system for mathematical programming"
   ]
  },
  {
   "cell_type": "code",
   "execution_count": 10,
   "metadata": {
    "collapsed": false
   },
   "outputs": [
    {
     "name": "stdout",
     "output_type": "stream",
     "text": [
      "f(1) = 1\n",
      "f(2) = 4\n"
     ]
    }
   ],
   "source": [
    "# define generic function to compute norm squared\n",
    "f(x) = norm(x)^2\n",
    "@show f(1)\n",
    "@show f(2);"
   ]
  },
  {
   "cell_type": "code",
   "execution_count": 20,
   "metadata": {
    "collapsed": false
   },
   "outputs": [
    {
     "name": "stdout",
     "output_type": "stream",
     "text": [
      "evaluate(NormSquared(1)) = 1\n",
      "evaluate(NormSquared(2)) = 4\n",
      "evaluate(NormSquared(NormSquared(2))) = 16\n"
     ]
    }
   ],
   "source": [
    "type NormSquared\n",
    "    args\n",
    "end\n",
    "evaluate(f::NormSquared) = norm(evaluate(f.args))^2\n",
    "evaluate(x::Number) = x\n",
    "@show evaluate(NormSquared(1))\n",
    "@show evaluate(NormSquared(2));\n",
    "@show evaluate(NormSquared(NormSquared(2)));"
   ]
  },
  {
   "cell_type": "code",
   "execution_count": 21,
   "metadata": {
    "collapsed": false
   },
   "outputs": [
    {
     "name": "stdout",
     "output_type": "stream",
     "text": [
      "gradient(NormSquared(1)) = 2\n",
      "gradient(NormSquared(2)) = 4\n",
      "gradient(NormSquared(NormSquared(2))) = 32\n"
     ]
    }
   ],
   "source": [
    "# Why bother defining a type?\n",
    "gradient(f::NormSquared) = 2 * norm(evaluate(f.args)) * gradient(f.args)\n",
    "gradient(x::Number) = 1\n",
    "@show gradient(NormSquared(1))\n",
    "@show gradient(NormSquared(2))\n",
    "@show gradient(NormSquared(NormSquared(2)));"
   ]
  },
  {
   "cell_type": "markdown",
   "metadata": {},
   "source": [
    "# Down the rabbit hole...\n",
    "\n",
    "We can differentiate *normal Julia code* with automatic differentiation"
   ]
  },
  {
   "cell_type": "code",
   "execution_count": 23,
   "metadata": {
    "collapsed": false
   },
   "outputs": [
    {
     "name": "stdout",
     "output_type": "stream",
     "text": [
      "ForwardDiff.gradient(f, [1]) = Float16[2.0]\n",
      "ForwardDiff.gradient(f, [2]) = Float16[4.0]\n",
      "ForwardDiff.gradient((x->begin  # In[23], line 5:\n",
      "            f(f(x))\n",
      "        end), [2]) = Float16[32.0]\n"
     ]
    }
   ],
   "source": [
    "using ForwardDiff\n",
    "\n",
    "@show ForwardDiff.gradient(f, [1])\n",
    "@show ForwardDiff.gradient(f, [2]);\n",
    "@show ForwardDiff.gradient(x -> f(f(x)), [2]);"
   ]
  }
 ],
 "metadata": {
  "kernelspec": {
   "display_name": "Julia 0.6.0-pre.alpha",
   "language": "julia",
   "name": "julia-0.6"
  },
  "language_info": {
   "file_extension": ".jl",
   "mimetype": "application/julia",
   "name": "julia",
   "version": "0.6.0"
  }
 },
 "nbformat": 4,
 "nbformat_minor": 0
}
